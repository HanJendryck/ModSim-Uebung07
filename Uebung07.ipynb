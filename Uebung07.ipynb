{
 "cells": [
  {
   "cell_type": "markdown",
   "metadata": {},
   "source": [
    "## Simulation und Modellierung WS 16/17 Uebung 07 : \n",
    "### Abgabe zum 11.12.2016"
   ]
  },
  {
   "cell_type": "markdown",
   "metadata": {},
   "source": [
    "### <u>Aufgabe 1</u> Erste Schritte mit Git (3P)"
   ]
  },
  {
   "cell_type": "markdown",
   "metadata": {},
   "source": [
    "Ziel dieser Aufgabe ist, die Lösung dieses kompletten Aufgabenblattes bei einem Git-Filehost (github) online zu stellen. An der hochgeladenen Version sollen Sie dann noch mindestens eine Änderung vornehmen.\n",
    "\n",
    "Nun der Reihenfolge nach: \n",
    "* Erstellen Sie einen Account bei Github mit einem `username`\n",
    "\n",
    "  https://github.com/\n",
    " \n",
    "  Erstellen Sie dort per Mausklick ein neues Repository, z.B. `my_repo`. (unter `new repository`)\n",
    "\n",
    "* Installieren Sie git auf Ihrem Arbeitsrechner:\n",
    "\n",
    "  #### Linux:\n",
    "  \n",
    "  `yum install git`\n",
    "  \n",
    "  `apt-get install git`\n",
    "  \n",
    "  `zypper in git`\n",
    "\n",
    "  #### Mac:\n",
    "  \n",
    "  `brew install git`\n",
    "  \n",
    "  https://git-scm.com/download/mac\n",
    "  \n",
    "  #### Windows:\n",
    "  \n",
    "  http://git-for-windows.github.io//\n",
    "\n",
    "  Setzen Sie dann eventuell Namen und Adresse.\n",
    "  \n",
    "  `git config --global user.name \"Your Name\"`\n",
    "  \n",
    "  `git config --global user.email you@example.com`\n",
    "\n",
    "\n",
    "* Initialisieren Sie git in einem neuen Ordner. Fügen Sie `my_repo.git` als origin hinzu. Speichern Sie dieses notebook im neuen Ordner. Führen Sie `git add .`, `git commit -m \"  \"` und `git push origin master` aus. Das alles geht im Terminal folgendermaßen:\n",
    "\n",
    "  ```bash\n",
    "      mkdir neuer_ordner\n",
    "      cd neuer_ordner\n",
    "      git init\n",
    "      git remote add origin https://username@bitbucket.org/username/my_repo.git\n",
    "      cp /path/to/notebook/my_notebook.ipynb my_notebook.ipynb\n",
    "      git add .\n",
    "      git commit -m \"Dieses notebook ist die Hausaufgabe Blatt 7, zunaechst unausgefuellt.\"\n",
    "      git push origin master  \n",
    "  ```\n",
    "  \n",
    "  Sehen Sie nach, ob Ihr notebook online ist.\n",
    "\n",
    "* Spielen Sie mit `git status`, `git log`, `git branch -av` .. herum und klicken Sie im Webfilehost herum, bis Sie sich ein wenig auskennen. Schreiben Sie Fragen für die Übung auf.\n",
    "\n",
    "* Nehmen Sie nun lokal auf Ihrem Rechner Änderungen am notebook vor, zum Beispiel indem Sie die Hausaufgaben lösen. Ändern Sie dies wie oben online: `git add .`, `git commit -m \"  \"`, `git push origin master`. Achten Sie auf sinnvolle commit-Kommentare.\n",
    "  \n",
    "  ```bash\n",
    "      git add .\n",
    "      git commit -m \"Aufg. 1 geloest, es gibt noch ein Problem mit dem Vorzeichen von h.\"\n",
    "      git push origin master  \n",
    "  ```\n",
    "\n",
    "Senden Sie den https-Repository-Pfad an frpeter (at) uni-potsdam.de."
   ]
  },
  {
   "cell_type": "markdown",
   "metadata": {},
   "source": [
    "### <u>Aufgabe 2</u> Das Lineare Least Squares Problem (7P)"
   ]
  },
  {
   "cell_type": "markdown",
   "metadata": {},
   "source": [
    "Fuer die Koordinaten $(x,y)$ eines beliebiegen Kegelschnittes in der Ebene gilt\n",
    "\n",
    "$$\n",
    "        f(x,y) = A x^2 + B xy + C y^2 + D x + E y = 1\n",
    "$$\n",
    "\n",
    "Die Datei `orbit.dat` enthaelt eine Tabelle von $x$ und $y$ Werten, welche messfehlerbehaftete Punkte eines Kegelschnittes sind. \n",
    "\n",
    "\n",
    "- Laden Sie die Daten in ein `numpy` Array und finden Sie die Koeffizienten $A,B,C,D$ und $E$, welche die Summe der quadratischen Abweichungen ueber alle Messpunkte des Ausdrucks auf der linken Seite zur Zahl `1` minimiert.\n",
    "\n",
    "Der Kegelschnitt ist eine geschlossene Kurve, wenn $B^2-4AC<0$ gilt, eine Parabel, wenn $B^2-4AC=0$ und ansonsten eine Hyperbel.\n",
    "\n",
    "- Ist dieser Kegelschnitt eine offene oder geschlossene Kurve?\n",
    "- Zeichnen Sie alle Kurven $y=y(x)$, die die Kegelschnittgleichung mit den von Ihnen gefundenen Koeffizienten erfuellen zusammen mit den Datenpunkten in ein Diagram.\n",
    "\n",
    "*Hinweis* : Sie koennen die Kegelschnittgleichung als quadratische Gleichung explizit nach $y$ aufloesen und beide Loesungen dort plotten, wo der Imaginaerteil gleich Null (oder sehr klein) ist, oder den Wertebereich von $x$ explizit berechnen.\n",
    "\n",
    "*Zur Erinnerung* : Die Summe der quadratischen Abweichungen eines ueberbestimmten linearen Gleichungssystems\n",
    "\n",
    "$$\n",
    "    \\mathrm{A}(\\vec{x},\\vec{y}) \\vec{c} = \\vec{b}\n",
    "$$\n",
    "wird durch die Loesung des kleineren linearen Gleichungssystems\n",
    "\n",
    "$$\n",
    "    \\mathrm{A}^\\top\\mathrm{A} \\vec{c} = \\mathrm{A}^\\top\\vec{b}\n",
    "$$\n",
    "minimiert."
   ]
  },
  {
   "cell_type": "code",
   "execution_count": 4,
   "metadata": {
    "collapsed": false
   },
   "outputs": [],
   "source": [
    "import numpy as np\n",
    "\n",
    "messwerte=np.loadtxt(\"./orbit.dat\")\n",
    "N=np.shape(messwerte)\n",
    "N=N[0]                                      #Anzahl der Datentupel\n",
    "\n",
    "Ma=np.ones((N,5))                           #Matrix Ma erstellen\n",
    "for i in range(N):                          #Einträge von A ersetzen durch:\n",
    "    Ma[i,0]=messwerte[i,0]**2               #xi^2\n",
    "    Ma[i,1]=messwerte[i,0]*messwerte[i,1]   #xi*yi\n",
    "    Ma[i,2]=messwerte[i,1]**2               #yi^2\n",
    "    Ma[i,3]=messwerte[i,0]                  #xi\n",
    "    Ma[i,4]=messwerte[i,1]                  #yi\n",
    "    \n",
    "#Versuche, for-Schleifen und das Hantieren mit unnoetig grossen Matrizen zu vermeiden, zB:\n",
    "x = messwerte[:, 0]                    # erste Spalte\n",
    "y = messwerte[:, 1]                    # zweite Spalte\n",
    "N = len(x)                        \n",
    "\n",
    "\n",
    "# Fuelle Matrix der Basisfunktionen\n",
    "matA       = np.zeros((N,5))      # Matrix der Basisfunktionswerte\n",
    "matA[:, 0] = x**2                 # Koeffizient A\n",
    "matA[:, 1] = x*y                  # .\n",
    "matA[:, 2] = y**2                 # .\n",
    "matA[:, 3] = x                    # .\n",
    "matA[:, 4] = y                    # Koeffizient E\n",
    "\n",
    "    \n",
    "V=np.ones((N,1))                            #Vektor V erstellen - das ist keine gute doku - was enthaelt V??\n",
    "\n",
    "c=np.linalg.solve(Ma.T.dot(Ma),Ma.T.dot(V))"
   ]
  },
  {
   "cell_type": "code",
   "execution_count": 22,
   "metadata": {
    "collapsed": false
   },
   "outputs": [
    {
     "name": "stdout",
     "output_type": "stream",
     "text": [
      "[-2.85292782]\n",
      "[[ 0.9827333 ]\n",
      " [ 0.95673125]\n",
      " [ 0.95861779]\n",
      " [ 1.00987493]\n",
      " [ 1.02591762]]\n",
      "Ellipse oder Kreis, also geschlossene Kurve\n"
     ]
    }
   ],
   "source": [
    "A=c[0]\n",
    "B=c[1]\n",
    "C=c[2]\n",
    "D=c[3]\n",
    "E=c[4]\n",
    "print(B**2-4*A*C)\n",
    "print(c)\n",
    "#lieber mit if-else als per Hand - so kannst du deinen Code leicht fuer andere Datensaetze verwenden:\n",
    "# teste, welchen Kegelschnitt der quadratische Anteil der Kegelschnittgleichung indiziert\n",
    "det = B**2-4*A*C # Determinante des quadratischen Anteils \n",
    "\n",
    "if det < 0.:\n",
    "    print(\"Ellipse oder Kreis, also geschlossene Kurve\")\n",
    "elif det == 0.:\n",
    "    print(\"Parabel, also offene Kurve\")\n",
    "else:\n",
    "    print(\"Hyperbel, also offene Kurve\")"
   ]
  },
  {
   "cell_type": "markdown",
   "metadata": {},
   "source": [
    "Der Kegelschnitt ist eine geschlossene Kurve."
   ]
  },
  {
   "cell_type": "code",
   "execution_count": 24,
   "metadata": {
    "collapsed": false,
    "scrolled": true
   },
   "outputs": [
    {
     "data": {
      "image/png": "[encoded data removed]",
      "text/plain": [
       "<matplotlib.figure.Figure at 0x7f542243e6d8>"
      ]
     },
     "metadata": {},
     "output_type": "display_data"
    },
    {
     "data": {
      "text/plain": [
       "'\\nzwei hauptsaechliche Fehler: x und y in plot vertauscht und theoretische Kurven falsch implementiert\\nFazit: die Messwerte gehoeren zum porsitiven Ast der Funktion y(x)\\n'"
      ]
     },
     "execution_count": 24,
     "metadata": {},
     "output_type": "execute_result"
    }
   ],
   "source": [
    "%matplotlib inline\n",
    "from pylab import *\n",
    "\n",
    "#messwerte.shape=(2*N) # die folgenden Zeilen machen fuer mich \"oekonomisch\" keinen Sinn, \n",
    "                      # warum willst du alles in einem Vektor?\n",
    "#messwerte_x=messwerte[0:2*N:2]\n",
    "#messwerte_y=messwerte[1:2*N:2]\n",
    "\n",
    "x1=linspace(-2,2,1000)\n",
    "x1=x1[((B*x1+E)/C/2)**2 - (A*x1**2.+D*x1-1.)/C >=0] # das, was wenn man f nach y aufloest unter der Wurzel steht,\n",
    "                                                    # darf nicht negativ sein, wenn die Wuryel definiert sein soll.\n",
    "\n",
    "p = (B*x1+E)/C\n",
    "q = (A*x1**2.+D*x1-1.)/C \n",
    "wurzel = np.sqrt((p/2.)**2.-q)\n",
    "y1 = (-p/2. + wurzel)\n",
    "y2 = (-p/2. - wurzel)\n",
    "#y1=(sqrt((B*x1+E)**2-4*C*(A*x1**2+D*x1-1))-B*x1-E)/2*C\n",
    "\n",
    "plot(x, y,'.') # Messwerte, wie wir sie oben schon in arrays x und y geschrieben haben\n",
    "plot(x1, y1) #oberer Ast\n",
    "plot(x1, y2) #unterer Ast\n",
    "show()\n",
    "\n",
    "\"\"\"\n",
    "zwei hauptsaechliche Fehler: x und y in plot vertauscht und theoretische Kurven falsch implementiert\n",
    "Fazit: die Messwerte gehoeren zum porsitiven Ast der Funktion y(x)\n",
    "\"\"\""
   ]
  },
  {
   "cell_type": "markdown",
   "metadata": {},
   "source": [
    "### <u>Zusatzaufgabe</u> (2P)"
   ]
  },
  {
   "cell_type": "markdown",
   "metadata": {},
   "source": [
    "- Schreiben Sie eine Funktion `polyfit(x,y,N=0)`, welche fuer `L` Datenpunkte in den Containern `x` und `y` die Koeffizienten `c` eines Polynoms \n",
    "$$\n",
    "    y = p(x)= c_0 x^0 + c_1 x^1 + c_2 x^2 + \\dots + c_N x^N\n",
    "$$ \n",
    "`N`ten Grades findet, welches die Summe der quadratischen Abweichungen $\\sum_l (p(x_l)-y_l)^2$ minimiert. *Hinweis* : wandeln Sie `x` und `y` in `numpy` arrays um.\n",
    "- Demonstrieren Sie die Funktion grafisch anhand von `L` $\\gg$ `N` Punkten eines Polynoms, welche zufaellige Abweichungen in $x$ und $y$ Richtung aufweisen.\n",
    "- Finden Sie ein Polynom, welches die Daten der ersten Aufgabe gut beschreibt."
   ]
  },
  {
   "cell_type": "code",
   "execution_count": 1,
   "metadata": {
    "collapsed": true
   },
   "outputs": [],
   "source": [
    "def polyfit(x,y,N=0):\n",
    "    x=np.array(x)\n",
    "    y=np.array(y)\n",
    "    L=len(x)\n",
    "    \n",
    "    P=np.ones((L,N+1))\n",
    "    for i in range (L):\n",
    "        for j in range(1,N+1):\n",
    "            P[i,j]=x[i]**j\n",
    "            \n",
    "    Q=np.linalg.solve(P.T.dot(P),P.T.dot(y))\n",
    "    return Q"
   ]
  },
  {
   "cell_type": "code",
   "execution_count": 5,
   "metadata": {
    "collapsed": false
   },
   "outputs": [
    {
     "data": {
      "text/plain": [
       "array([ 0.61824282, -0.72145652, -0.36420239, -0.09350445, -0.06921684])"
      ]
     },
     "execution_count": 5,
     "metadata": {},
     "output_type": "execute_result"
    }
   ],
   "source": [
    "#polyfit(messwerte_x,messwerte_y,N=4)\n",
    "polyfit(x, y,N=4)"
   ]
  },
  {
   "cell_type": "markdown",
   "metadata": {},
   "source": [
    "keine Dokumentation. Polynom mit Fehler und grafische Darstellung fehlen. For-Schleifen sind zu vermeiden.\n",
    "1 Punkt"
   ]
  },
  {
   "cell_type": "code",
   "execution_count": null,
   "metadata": {
    "collapsed": true
   },
   "outputs": [],
   "source": []
  }
 ],
 "metadata": {
  "anaconda-cloud": {},
  "kernelspec": {
   "display_name": "Python [default]",
   "language": "python",
   "name": "python3"
  },
  "language_info": {
   "codemirror_mode": {
    "name": "ipython",
    "version": 3
   },
   "file_extension": ".py",
   "mimetype": "text/x-python",
   "name": "python",
   "nbconvert_exporter": "python",
   "pygments_lexer": "ipython3",
   "version": "3.5.2"
  }
 },
 "nbformat": 4,
 "nbformat_minor": 0
}
